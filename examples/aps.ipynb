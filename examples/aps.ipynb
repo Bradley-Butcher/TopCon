{
 "cells": [
  {
   "cell_type": "code",
   "execution_count": 2,
   "metadata": {},
   "outputs": [
    {
     "name": "stderr",
     "output_type": "stream",
     "text": [
      "Downloading builder script: 100%|██████████| 3.60k/3.60k [00:00<00:00, 20.3MB/s]\n",
      "Downloading metadata: 100%|██████████| 1.88k/1.88k [00:00<00:00, 9.78MB/s]\n",
      "Downloading readme: 100%|██████████| 5.01k/5.01k [00:00<00:00, 25.2MB/s]\n",
      "Downloading data: 100%|██████████| 319M/319M [00:34<00:00, 9.25MB/s] \n",
      "Generating train split: 100%|██████████| 1400000/1400000 [00:52<00:00, 26556.49 examples/s]\n",
      "Generating test split: 100%|██████████| 60000/60000 [00:05<00:00, 11816.19 examples/s]"
     ]
    },
    {
     "name": "stdout",
     "output_type": "stream",
     "text": [
      "Unexpected exception formatting exception. Falling back to standard exception\n"
     ]
    },
    {
     "name": "stderr",
     "output_type": "stream",
     "text": [
      "\n",
      "Traceback (most recent call last):\n",
      "  File \"/home/dev/miniconda3/envs/topcon/lib/python3.10/site-packages/IPython/core/interactiveshell.py\", line 3508, in run_code\n",
      "    exec(code_obj, self.user_global_ns, self.user_ns)\n",
      "  File \"/tmp/ipykernel_1605/1037780202.py\", line 3, in <module>\n",
      "    predictor = APSConformalPredictor.from_hf_datasets(\n",
      "  File \"/home/dev/Code/TopCon/topcon/calibration.py\", line 128, in from_hf_datasets\n",
      "AttributeError: 'Dataset' object has no attribute 'sample'\n",
      "\n",
      "During handling of the above exception, another exception occurred:\n",
      "\n",
      "Traceback (most recent call last):\n",
      "  File \"/home/dev/miniconda3/envs/topcon/lib/python3.10/site-packages/IPython/core/interactiveshell.py\", line 2105, in showtraceback\n",
      "    stb = self.InteractiveTB.structured_traceback(\n",
      "  File \"/home/dev/miniconda3/envs/topcon/lib/python3.10/site-packages/IPython/core/ultratb.py\", line 1428, in structured_traceback\n",
      "    return FormattedTB.structured_traceback(\n",
      "  File \"/home/dev/miniconda3/envs/topcon/lib/python3.10/site-packages/IPython/core/ultratb.py\", line 1319, in structured_traceback\n",
      "    return VerboseTB.structured_traceback(\n",
      "  File \"/home/dev/miniconda3/envs/topcon/lib/python3.10/site-packages/IPython/core/ultratb.py\", line 1172, in structured_traceback\n",
      "    formatted_exception = self.format_exception_as_a_whole(etype, evalue, etb, number_of_lines_of_context,\n",
      "  File \"/home/dev/miniconda3/envs/topcon/lib/python3.10/site-packages/IPython/core/ultratb.py\", line 1087, in format_exception_as_a_whole\n",
      "    frames.append(self.format_record(record))\n",
      "  File \"/home/dev/miniconda3/envs/topcon/lib/python3.10/site-packages/IPython/core/ultratb.py\", line 969, in format_record\n",
      "    frame_info.lines, Colors, self.has_colors, lvals\n",
      "  File \"/home/dev/miniconda3/envs/topcon/lib/python3.10/site-packages/IPython/core/ultratb.py\", line 792, in lines\n",
      "    return self._sd.lines\n",
      "  File \"/home/dev/miniconda3/envs/topcon/lib/python3.10/site-packages/stack_data/utils.py\", line 144, in cached_property_wrapper\n",
      "    value = obj.__dict__[self.func.__name__] = self.func(obj)\n",
      "  File \"/home/dev/miniconda3/envs/topcon/lib/python3.10/site-packages/stack_data/core.py\", line 734, in lines\n",
      "    pieces = self.included_pieces\n",
      "  File \"/home/dev/miniconda3/envs/topcon/lib/python3.10/site-packages/stack_data/utils.py\", line 144, in cached_property_wrapper\n",
      "    value = obj.__dict__[self.func.__name__] = self.func(obj)\n",
      "  File \"/home/dev/miniconda3/envs/topcon/lib/python3.10/site-packages/stack_data/core.py\", line 681, in included_pieces\n",
      "    pos = scope_pieces.index(self.executing_piece)\n",
      "  File \"/home/dev/miniconda3/envs/topcon/lib/python3.10/site-packages/stack_data/utils.py\", line 144, in cached_property_wrapper\n",
      "    value = obj.__dict__[self.func.__name__] = self.func(obj)\n",
      "  File \"/home/dev/miniconda3/envs/topcon/lib/python3.10/site-packages/stack_data/core.py\", line 660, in executing_piece\n",
      "    return only(\n",
      "  File \"/home/dev/miniconda3/envs/topcon/lib/python3.10/site-packages/executing/executing.py\", line 190, in only\n",
      "    raise NotOneValueFound('Expected one value, found 0')\n",
      "executing.executing.NotOneValueFound: Expected one value, found 0\n"
     ]
    }
   ],
   "source": [
    "from topcon import APSConformalPredictor, GPT_topic_proba\n",
    "\n",
    "predictor = APSConformalPredictor.from_hf_datasets(\n",
    "    hf_repo_name='yahoo_answers_topics',\n",
    "    topic_column='topic',\n",
    "    text_columns=['question_title', 'question_content'],\n",
    "    topic_proba=GPT_topic_proba,\n",
    "    calibration_size=500,\n",
    "    save_path='test_data/yahoo_answers_topics',\n",
    ")\n",
    "\n"
   ]
  },
  {
   "cell_type": "code",
   "execution_count": null,
   "metadata": {},
   "outputs": [],
   "source": []
  }
 ],
 "metadata": {
  "kernelspec": {
   "display_name": "Python 3.10.12 ('topcon')",
   "language": "python",
   "name": "python3"
  },
  "language_info": {
   "codemirror_mode": {
    "name": "ipython",
    "version": 3
   },
   "file_extension": ".py",
   "mimetype": "text/x-python",
   "name": "python",
   "nbconvert_exporter": "python",
   "pygments_lexer": "ipython3",
   "version": "3.10.12"
  },
  "orig_nbformat": 4,
  "vscode": {
   "interpreter": {
    "hash": "0db04ec7f8f188e9e0cad8c6b1decf7b9077e58c497e83de39a467361c82ed51"
   }
  }
 },
 "nbformat": 4,
 "nbformat_minor": 2
}
